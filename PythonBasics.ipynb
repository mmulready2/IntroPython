{
  "nbformat": 4,
  "nbformat_minor": 0,
  "metadata": {
    "colab": {
      "provenance": [],
      "authorship_tag": "ABX9TyOqX7JFhrIf41KEAorq+YRY",
      "include_colab_link": true
    },
    "kernelspec": {
      "name": "python3",
      "display_name": "Python 3"
    },
    "language_info": {
      "name": "python"
    }
  },
  "cells": [
    {
      "cell_type": "markdown",
      "metadata": {
        "id": "view-in-github",
        "colab_type": "text"
      },
      "source": [
        "<a href=\"https://colab.research.google.com/github/mmulready2/IntroPython/blob/main/PythonBasics.ipynb\" target=\"_parent\"><img src=\"https://colab.research.google.com/assets/colab-badge.svg\" alt=\"Open In Colab\"/></a>"
      ]
    },
    {
      "cell_type": "code",
      "execution_count": null,
      "metadata": {
        "colab": {
          "base_uri": "https://localhost:8080/"
        },
        "id": "TQn9GUPT7jSv",
        "outputId": "04b10379-7c75-4ed7-f6fc-0f55170bb304"
      },
      "outputs": [
        {
          "output_type": "stream",
          "name": "stdout",
          "text": [
            "Hello World!\n"
          ]
        }
      ],
      "source": [
        "print('Hello World!')"
      ]
    },
    {
      "cell_type": "markdown",
      "source": [
        "### This Notebook Shows Python Basics ###\n",
        "\n",
        "The hash # symbol creates a comment in python. Text is ignored when running the program, but useful for documentation.\n",
        "\n",
        "Colab and Jupyter provides the ability to make **notebooks**. Notebooks allow you to create *text* and *code* cells. Text cells support MarkDown. Code cells require python.\n",
        "\n",
        "**Python Datatypes**\n",
        "* int\n",
        "* str\n",
        "* float\n",
        "* bool"
      ],
      "metadata": {
        "id": "eNJ4-lRv9Vn1"
      }
    },
    {
      "cell_type": "code",
      "source": [
        "x = 5            # int\n",
        "s = 'hello'      # str\n",
        "temp = 98.6      # float\n",
        "iAmSam = False   # bool\n",
        "y = '98.6'       # str\n",
        "print(x + temp)\n"
      ],
      "metadata": {
        "colab": {
          "base_uri": "https://localhost:8080/"
        },
        "id": "uY7DXlO-Ms2y",
        "outputId": "f499d86b-962c-42b8-e0cd-7161ca181b21"
      },
      "execution_count": 1,
      "outputs": [
        {
          "output_type": "stream",
          "name": "stdout",
          "text": [
            "103.6\n"
          ]
        }
      ]
    },
    {
      "cell_type": "markdown",
      "source": [
        "**Python Collection Types**\n",
        "\n",
        "*   list - ordered, indexed, like an array, mutable\n",
        "*   tuple - immutable list\n",
        "*   dict - a hastable, a set of key, value data pairs\n",
        "\n"
      ],
      "metadata": {
        "id": "RIyi8GZJNhGD"
      }
    },
    {
      "cell_type": "code",
      "source": [
        "my_list = ['I','love','CIS']\n",
        "my_list[2] = 'Finance'\n",
        "print(my_list[2])\n",
        "my_list2 = [3,'hello','frogs',4.3,True]\n",
        "my_tuple = ('Purple','Eagles')\n",
        "\n",
        "example_dict = {'triangle':3, 'square':4, 'septagon':7}\n",
        "example_dict['decagon'] = 10\n",
        "print(example_dict['septagon'])"
      ],
      "metadata": {
        "colab": {
          "base_uri": "https://localhost:8080/"
        },
        "id": "1j1NKl3oNyap",
        "outputId": "1aa6ab42-560c-41c6-8b7c-86022beacbf8"
      },
      "execution_count": 4,
      "outputs": [
        {
          "output_type": "stream",
          "name": "stdout",
          "text": [
            "Finance\n",
            "7\n"
          ]
        }
      ]
    },
    {
      "cell_type": "markdown",
      "source": [
        "### AI AGENT NOTES ###\n",
        "\n",
        "**The Representation Problem** - how to represent a problem in a programming language.\n",
        "\n",
        "**PEAS**\n",
        "* Performance measure\n",
        "* Environment\n",
        "  * Includes state and rules for how actions update the state\n",
        "* Actions\n",
        "* Sensors - the portion of the worold state the the agent can see\n",
        "* Agent - an autonomous program that sees through sensors and determines actions\n",
        "\n",
        "\n",
        "\n",
        "continuous vs discrete\n",
        "\n",
        "\n",
        "\n",
        "#### Example: Farmer, Wolf, Sheep, Oats, River problem"
      ],
      "metadata": {
        "id": "gIMBEt_hB823"
      }
    },
    {
      "cell_type": "code",
      "source": [
        "# STATE\n",
        "\n",
        "farmer_is_on_top = True\n",
        "wolf_is_on_top = True\n",
        "sheep_is_on_top = True\n",
        "oats_is_on_top = True\n",
        "\n",
        "oats_is_intact = True\n",
        "sheep_is_alive = True\n",
        "\n",
        "def print_state():\n",
        "  \"\"\" Prints all the parties on top of river bank, followed by =======,\n",
        "  then all parties below the river bank \"\"\"\n",
        "  # TODO\n",
        "  if farmer_is_on_top == True:\n",
        "    print('FARMER')\n",
        "  if wolf_is_on_top:\n",
        "    print('WOLF')\n",
        "  if sheep_is_on_top:\n",
        "    print('SHEEP')\n",
        "  print('OATS' if oats_is_on_top else '')\n",
        "  print('==================')\n",
        "  # TODO\n",
        "  if farmer_is_on_top != True:\n",
        "    print('FARMER')\n",
        "  if not wolf_is_on_top:\n",
        "    print('WOLF')\n",
        "  if not sheep_is_on_top:\n",
        "    print('SHEEP')\n",
        "  print('OATS' if not oats_is_on_top else '')\n",
        "\n",
        "\n",
        "# ACTIONS\n",
        "\n",
        "def move(thing):\n",
        "  \"\"\" Updates STATE variables given that the farmer moves thing.\n",
        "  thing must be one of 'wolf', 'sheep', 'oats' \"\"\"\n",
        "  # TODO\n",
        "\n",
        "\n",
        "###################\n",
        "print_state()"
      ],
      "metadata": {
        "id": "zAf-lgWeCYnI",
        "colab": {
          "base_uri": "https://localhost:8080/"
        },
        "outputId": "90eb3a66-23ff-4682-e306-32d869fcda02"
      },
      "execution_count": 21,
      "outputs": [
        {
          "output_type": "stream",
          "name": "stdout",
          "text": [
            "FARMER\n",
            "WOLF\n",
            "SHEEP\n",
            "OATS\n",
            "==================\n",
            "\n"
          ]
        }
      ]
    }
  ]
}