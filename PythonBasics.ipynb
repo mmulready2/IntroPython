{
  "nbformat": 4,
  "nbformat_minor": 0,
  "metadata": {
    "colab": {
      "provenance": [],
      "authorship_tag": "ABX9TyNHIKTo9R8jB/5+XMZsufY4",
      "include_colab_link": true
    },
    "kernelspec": {
      "name": "python3",
      "display_name": "Python 3"
    },
    "language_info": {
      "name": "python"
    }
  },
  "cells": [
    {
      "cell_type": "markdown",
      "metadata": {
        "id": "view-in-github",
        "colab_type": "text"
      },
      "source": [
        "<a href=\"https://colab.research.google.com/github/mmulready2/IntroPython/blob/main/PythonBasics.ipynb\" target=\"_parent\"><img src=\"https://colab.research.google.com/assets/colab-badge.svg\" alt=\"Open In Colab\"/></a>"
      ]
    },
    {
      "cell_type": "code",
      "execution_count": null,
      "metadata": {
        "colab": {
          "base_uri": "https://localhost:8080/"
        },
        "id": "TQn9GUPT7jSv",
        "outputId": "04b10379-7c75-4ed7-f6fc-0f55170bb304"
      },
      "outputs": [
        {
          "output_type": "stream",
          "name": "stdout",
          "text": [
            "Hello World!\n"
          ]
        }
      ],
      "source": [
        "print('Hello World!')"
      ]
    },
    {
      "cell_type": "markdown",
      "source": [
        "### This Notebook Shows Python Basics ###\n",
        "\n",
        "The hash # symbol creates a comment in python. Text is ignored when running the program, but useful for documentation.\n",
        "\n",
        "Colab and Jupyter provides the ability to make **notebooks**. Notebooks allow you to create *text* and *code* cells. Text cells support MarkDown. Code cells require python.\n",
        "\n",
        "**Python Datatypes**\n",
        "* int\n",
        "* str\n",
        "* float\n",
        "* bool"
      ],
      "metadata": {
        "id": "eNJ4-lRv9Vn1"
      }
    },
    {
      "cell_type": "code",
      "source": [
        "x = 5            # int\n",
        "s = 'hello'      # str\n",
        "temp = 98.6      # float\n",
        "iAmSam = False   # bool\n",
        "y = '98.6'       # str\n",
        "print(x + temp)\n"
      ],
      "metadata": {
        "colab": {
          "base_uri": "https://localhost:8080/"
        },
        "id": "uY7DXlO-Ms2y",
        "outputId": "f499d86b-962c-42b8-e0cd-7161ca181b21"
      },
      "execution_count": 1,
      "outputs": [
        {
          "output_type": "stream",
          "name": "stdout",
          "text": [
            "103.6\n"
          ]
        }
      ]
    },
    {
      "cell_type": "markdown",
      "source": [
        "**Python Collection Types**\n",
        "\n",
        "*   list - ordered, indexed, like an array, mutable\n",
        "*   tuple - immutable list\n",
        "*   dict - a hastable, a set of key, value data pairs\n",
        "\n"
      ],
      "metadata": {
        "id": "RIyi8GZJNhGD"
      }
    },
    {
      "cell_type": "code",
      "source": [
        "my_list = ['I','love','CIS']\n",
        "my_list[2] = 'Finance'\n",
        "print(my_list[2])\n",
        "my_list2 = [3,'hello','frogs',4.3,True]\n",
        "my_tuple = ('Purple','Eagles')\n",
        "\n",
        "example_dict = {'triangle':3, 'square':4, 'septagon':7}\n",
        "example_dict['decagon'] = 10\n",
        "print(example_dict['septagon'])"
      ],
      "metadata": {
        "id": "1j1NKl3oNyap"
      },
      "execution_count": null,
      "outputs": []
    },
    {
      "cell_type": "markdown",
      "source": [
        "### AI AGENT NOTES ###\n",
        "\n",
        "**The Representation Problem** - how to represent a problem in a programming language.\n",
        "\n",
        "**PEAS**\n",
        "* Performance measure\n",
        "* Environment\n",
        "  * Includes state and rules for how actions update the state\n",
        "* Actions\n",
        "* Sensors - the portion of the worold state the the agent can see\n",
        "* Agent - an autonomous program that sees through sensors and determines actions\n",
        "\n",
        "\n",
        "\n",
        "continuous vs discrete\n",
        "\n",
        "\n",
        "\n",
        "#### Example: Farmer, Wolf, Sheep, Oats, River problem"
      ],
      "metadata": {
        "id": "gIMBEt_hB823"
      }
    },
    {
      "cell_type": "code",
      "source": [],
      "metadata": {
        "id": "zAf-lgWeCYnI"
      },
      "execution_count": null,
      "outputs": []
    }
  ]
}