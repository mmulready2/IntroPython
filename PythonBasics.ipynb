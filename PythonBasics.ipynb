{
  "nbformat": 4,
  "nbformat_minor": 0,
  "metadata": {
    "colab": {
      "provenance": [],
      "include_colab_link": true
    },
    "kernelspec": {
      "name": "python3",
      "display_name": "Python 3"
    },
    "language_info": {
      "name": "python"
    }
  },
  "cells": [
    {
      "cell_type": "markdown",
      "metadata": {
        "id": "view-in-github",
        "colab_type": "text"
      },
      "source": [
        "<a href=\"https://colab.research.google.com/github/mmulready2/IntroPython/blob/main/PythonBasics.ipynb\" target=\"_parent\"><img src=\"https://colab.research.google.com/assets/colab-badge.svg\" alt=\"Open In Colab\"/></a>"
      ]
    },
    {
      "cell_type": "code",
      "execution_count": null,
      "metadata": {
        "colab": {
          "base_uri": "https://localhost:8080/"
        },
        "id": "TQn9GUPT7jSv",
        "outputId": "04b10379-7c75-4ed7-f6fc-0f55170bb304"
      },
      "outputs": [
        {
          "output_type": "stream",
          "name": "stdout",
          "text": [
            "Hello World!\n"
          ]
        }
      ],
      "source": [
        "print('Hello World!')"
      ]
    },
    {
      "cell_type": "markdown",
      "source": [
        "### This Notebook Shows Python Basics ###\n",
        "\n",
        "The hash # symbol creates a comment in python. Text is ignored when running the program, but useful for documentation.\n",
        "\n",
        "Colab and Jupyter provides the ability to make **notebooks**. Notebooks allow you to create *text* and *code* cells. Text cells support MarkDown. Code cells require python.\n",
        "\n",
        "**Python Datatypes**\n",
        "* int\n",
        "* str\n",
        "* float\n",
        "* bool"
      ],
      "metadata": {
        "id": "eNJ4-lRv9Vn1"
      }
    },
    {
      "cell_type": "code",
      "source": [
        "x = 5            # int\n",
        "s = 'hello'      # str\n",
        "temp = 98.6      # float\n",
        "iAmSam = False   # bool\n",
        "y = '98.6'       # str\n",
        "print(x + temp)\n"
      ],
      "metadata": {
        "colab": {
          "base_uri": "https://localhost:8080/"
        },
        "id": "uY7DXlO-Ms2y",
        "outputId": "f499d86b-962c-42b8-e0cd-7161ca181b21"
      },
      "execution_count": null,
      "outputs": [
        {
          "output_type": "stream",
          "name": "stdout",
          "text": [
            "103.6\n"
          ]
        }
      ]
    },
    {
      "cell_type": "markdown",
      "source": [
        "**Python Collection Types**\n",
        "\n",
        "*   list - ordered, indexed, like an array, mutable\n",
        "*   tuple - immutable list\n",
        "*   dict - a hastable, a set of key, value data pairs\n",
        "\n"
      ],
      "metadata": {
        "id": "RIyi8GZJNhGD"
      }
    },
    {
      "cell_type": "code",
      "source": [
        "my_list = ['I', 'love', 'CIS']\n",
        "my_list[2] = 'Finance'            # overwrite an indexed location\n",
        "print(my_list[2])                 # access a list location by index\n",
        "\n",
        "# in a list different elements can be different types\n",
        "my_list2 = [3, 'hello', 'frogs', 4.3, True]\n",
        "\n",
        "my_tuple = ('Purple', 'Eagles')\n",
        "# my_tuple[1] = 'Green' # ERROR - a tuple can't be changed like a list\n",
        "\n",
        "# initialize a dict   {key:value}\n",
        "example_dict = {'triangle':3, 'square':4, 'septagon':7}\n",
        "example_dict['decagon'] = 10   # insert a new key, value pair\n",
        "print(example_dict['septagon'])"
      ],
      "metadata": {
        "id": "x1ejnPGcT1Ml"
      },
      "execution_count": null,
      "outputs": []
    },
    {
      "cell_type": "markdown",
      "source": [
        "list index function:\n",
        "  \n",
        "  my_list.index(target)\n",
        "- This function will return the index (starting with 0) of the first occurance of target in the list\n",
        "\n",
        "Dynamic properties of a list\n",
        "\n",
        "**len(list)**:\n",
        "\n",
        "**pop**: used to remove an item from a list, with given index\n",
        "\n",
        "**append**: used to add an item to a list, at end of list\n",
        "\n",
        "- both default to last item in list"
      ],
      "metadata": {
        "id": "uHe9D2OIT89O"
      }
    },
    {
      "cell_type": "code",
      "source": [
        "list_a = ['a',1,True,'Frog','cat']\n",
        "\n",
        "target = 'Frog' # what is index?\n",
        "i = 0\n",
        "for e in list_a:\n",
        "  if e == target:\n",
        "    break\n",
        "  else:\n",
        "    i = i + 1\n",
        "  print('index is:',i)\n",
        "  print('index2 is:',list_a.index('Frog'))"
      ],
      "metadata": {
        "id": "_soRbF7xT7FS",
        "outputId": "1f0a3787-eb38-4aa5-f1f6-fc4ddf4d90dd",
        "colab": {
          "base_uri": "https://localhost:8080/"
        }
      },
      "execution_count": 5,
      "outputs": [
        {
          "output_type": "stream",
          "name": "stdout",
          "text": [
            "index is: 1\n",
            "index2 is: 3\n",
            "index is: 2\n",
            "index2 is: 3\n",
            "index is: 3\n",
            "index2 is: 3\n"
          ]
        }
      ]
    },
    {
      "cell_type": "code",
      "source": [
        "a = []\n",
        "a.append(\"GO\")\n",
        "a.append(\"PURPLE\")\n",
        "a.append(\"EAGLES!\")\n",
        "print(a)\n",
        "a.pop()\n",
        "print(a)"
      ],
      "metadata": {
        "id": "0jR8N59lWgzt",
        "outputId": "adce13f4-a010-4a47-ff83-630df4235448",
        "colab": {
          "base_uri": "https://localhost:8080/"
        }
      },
      "execution_count": 8,
      "outputs": [
        {
          "output_type": "stream",
          "name": "stdout",
          "text": [
            "['GO', 'PURPLE', 'EAGLES!']\n",
            "['GO', 'PURPLE']\n"
          ]
        }
      ]
    },
    {
      "cell_type": "markdown",
      "source": [
        "### AI AGENT NOTES ###\n",
        "\n",
        "**The Representation Problem** - how to represent a problem in a programming language.\n",
        "\n",
        "**PEAS**\n",
        "* Performance measure\n",
        "* Environment\n",
        "  * Includes state and rules for how actions update the state\n",
        "* Actions\n",
        "* Sensors - the portion of the worold state the the agent can see\n",
        "\n",
        "\n",
        "continuous vs discrete\n",
        "\n",
        "\n",
        "\n",
        "#### Example: Farmer, Wolf, Sheep, Oats, River problem"
      ],
      "metadata": {
        "id": "gIMBEt_hB823"
      }
    },
    {
      "cell_type": "code",
      "source": [
        "# STATE\n",
        "\n",
        "farmer_is_on_top = True\n",
        "wolf_is_on_top = True\n",
        "sheep_is_on_top = True\n",
        "oats_is_on_top = True\n",
        "\n",
        "oats_is_intact = True\n",
        "sheep_is_alive = True\n",
        "\n",
        "def print_state():\n",
        "  \"\"\" Prints all the parties on top of river bank, followed by =======,\n",
        "  then all parties below the river bank \"\"\"\n",
        "  # TODO\n",
        "  if farmer_is_on_top == True:\n",
        "    print('FARMER')\n",
        "  if wolf_is_on_top:\n",
        "    print('WOLF')\n",
        "  if sheep_is_on_top:\n",
        "    print('SHEEP')\n",
        "  print('OATS' if oats_is_on_top else '')\n",
        "  print('==================')\n",
        "  # TODO\n",
        "  if farmer_is_on_top != True:\n",
        "    print('FARMER')\n",
        "  if not wolf_is_on_top:\n",
        "    print('WOLF')\n",
        "  if not sheep_is_on_top:\n",
        "    print('SHEEP')\n",
        "  print('OATS' if not oats_is_on_top else '')\n",
        "\n",
        "def display_state():\n",
        "  # TODO\n",
        "  print('==================')\n",
        "  # TODO\n",
        "\n",
        "# ACTIONS\n",
        "\n",
        "def move(thing):\n",
        "  \"\"\" Updates STATE variables given that the farmer moves thing.\n",
        "  thing must be one of ['wolf', 'sheep', 'oats', ''].\n",
        "  Returns False is move is legal. Returns True if state updated. \"\"\"\n",
        "  # TODO\n",
        "\n",
        "  # verify if move is legal\n",
        "  if thing not in ['wolf','sheep','oats','']:\n",
        "    print('ILLEGAL MOVE')\n",
        "    return False\n",
        "\n",
        "  if thing == 'sheep':\n",
        "    # check if farmer and sheep are on different sides\n",
        "    move_is_legal = farmer_is_on_top == sheep_is_on_top\n",
        "\n",
        "  elif thing == 'wolf':\n",
        "    if farmer_is_on_top != wolf_is_on_top:\n",
        "      move_is_legal = False\n",
        "    else:\n",
        "      move_is_legal = True\n",
        "\n",
        "  elif thing == 'oats':\n",
        "    if farmer_is_on_top != oats_is_on_top:\n",
        "      move_is_legal = False\n",
        "    else:\n",
        "      move_is_legal = True\n",
        "\n",
        "  elif thing == '':\n",
        "      move_is_legal = True\n",
        "\n",
        "  if move_is_legal == False:\n",
        "    print('ILLEGAL MOVE')\n",
        "    return False\n",
        "\n",
        "# update state\n",
        "  farmer_is_on_top = not farmer_is_on_top # Switching farmer side\n",
        "  if thing == 'sheep':\n",
        "    sheep_is_on_top = not sheep_is_on_top\n",
        "  elif thing == 'wolf':\n",
        "    wolf_is_on_top = not wolf_is_on_top\n",
        "  elif thing == 'oats':\n",
        "    oats_is_on_top = not oats_is_on_top\n",
        "\n",
        "  # sheep alive?\n",
        "  if (sheep_is_on_top == wolf_is_on_top) and (sheep_is_on_top != farmer_is_on_top):\n",
        "    sheep_is_alive = False\n",
        "\n",
        "  # oats are intact?\n",
        "\n",
        "\n",
        "###################\n",
        "print_state()"
      ],
      "metadata": {
        "id": "zAf-lgWeCYnI",
        "colab": {
          "base_uri": "https://localhost:8080/"
        },
        "outputId": "3f298c63-b4e8-4ed6-fb40-814f5035f9dd"
      },
      "execution_count": null,
      "outputs": [
        {
          "output_type": "stream",
          "name": "stdout",
          "text": [
            "FARMER\n",
            "WOLF\n",
            "SHEEP\n",
            "OATS\n",
            "==================\n",
            "\n"
          ]
        }
      ]
    }
  ]
}